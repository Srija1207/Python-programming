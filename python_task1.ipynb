{
  "nbformat": 4,
  "nbformat_minor": 0,
  "metadata": {
    "colab": {
      "name": "python task1",
      "provenance": [],
      "collapsed_sections": []
    },
    "kernelspec": {
      "name": "python3",
      "display_name": "Python 3"
    }
  },
  "cells": [
    {
      "cell_type": "code",
      "metadata": {
        "id": "Z672L3c1OdHV",
        "colab_type": "code",
        "colab": {
          "base_uri": "https://localhost:8080/",
          "height": 50
        },
        "outputId": "fce8517d-e855-451b-90c9-8c7fee0f90c9"
      },
      "source": [
        "#task 1-area of the circle\n",
        "import math\n",
        "radius = float(input(\"Enter the radius of the circle : \"))\n",
        "area = math.pi * radius * radius\n",
        "print(\"Area of the Circle is : {0}\".format(area))"
      ],
      "execution_count": 3,
      "outputs": [
        {
          "output_type": "stream",
          "text": [
            "Enter the radius of the circle : 8\n",
            "Area of the Circle is : 201.06192982974676\n"
          ],
          "name": "stdout"
        }
      ]
    },
    {
      "cell_type": "code",
      "metadata": {
        "id": "qSS578GaTrim",
        "colab_type": "code",
        "colab": {
          "base_uri": "https://localhost:8080/",
          "height": 50
        },
        "outputId": "f54c9fe2-31f3-4452-e976-44aa9204cbc0"
      },
      "source": [
        "#task 2- file extension\n",
        "filename = input(\"Input the Filename: \")\n",
        "file_extns = filename.split(\".\")\n",
        "print (\"The extension of the file is : \" +repr(file_extns[-1]))"
      ],
      "execution_count": 3,
      "outputs": [
        {
          "output_type": "stream",
          "text": [
            "Input the Filename: abc.java\n",
            "The extension of the file is : 'java'\n"
          ],
          "name": "stdout"
        }
      ]
    }
  ]
}